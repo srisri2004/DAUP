{
  "nbformat": 4,
  "nbformat_minor": 0,
  "metadata": {
    "colab": {
      "provenance": [],
      "authorship_tag": "ABX9TyNBrMEDgKa95Wcqm2weyJ2e",
      "include_colab_link": true
    },
    "kernelspec": {
      "name": "python3",
      "display_name": "Python 3"
    },
    "language_info": {
      "name": "python"
    }
  },
  "cells": [
    {
      "cell_type": "markdown",
      "metadata": {
        "id": "view-in-github",
        "colab_type": "text"
      },
      "source": [
        "<a href=\"https://colab.research.google.com/github/srisri2004/DAUP/blob/main/smaple_data_as_a_dictionary.ipynb\" target=\"_parent\"><img src=\"https://colab.research.google.com/assets/colab-badge.svg\" alt=\"Open In Colab\"/></a>"
      ]
    },
    {
      "cell_type": "code",
      "execution_count": null,
      "metadata": {
        "id": "cAXaiP0AD9sS"
      },
      "outputs": [],
      "source": []
    },
    {
      "cell_type": "code",
      "source": [
        "import pandas as pd\n",
        "#smaple data as a dictionary\n",
        "data={\n",
        "    'Name':['sri sri','ramu','balu'],\n",
        "    'Age':[25,30,35], # Corrected Age list length\n",
        "    'City':['Warangal','Gopalpur','hanamkonda']\n",
        "}\n",
        "#create a dataframe\n",
        "df  = pd.DataFrame(data)\n",
        "#print the dataframe\n",
        "print(df)\n",
        "#save to csv\n",
        "df.to_csv('output_data.csv',index=False)#index=False to skip\n",
        "#save to Excel\n",
        "df.to_excel('output_data.xlsx',index=False)\n",
        "print(\"'data saved to''output_data.csv'and 'output_data.xlsx',\")"
      ],
      "metadata": {
        "colab": {
          "base_uri": "https://localhost:8080/"
        },
        "id": "_xQC1nUJEDdl",
        "outputId": "0a32e7aa-e6fd-417d-e5f2-09ae6803636f"
      },
      "execution_count": 2,
      "outputs": [
        {
          "output_type": "stream",
          "name": "stdout",
          "text": [
            "      Name  Age        City\n",
            "0  sri sri   25    Warangal\n",
            "1     ramu   30    Gopalpur\n",
            "2     balu   35  hanamkonda\n",
            "'data saved to''output_data.csv'and 'output_data.xlsx',\n"
          ]
        }
      ]
    }
  ]
}