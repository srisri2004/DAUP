{
  "nbformat": 4,
  "nbformat_minor": 0,
  "metadata": {
    "colab": {
      "provenance": [],
      "authorship_tag": "ABX9TyMfYUSI9hI93DYaK97MhjRt",
      "include_colab_link": true
    },
    "kernelspec": {
      "name": "python3",
      "display_name": "Python 3"
    },
    "language_info": {
      "name": "python"
    }
  },
  "cells": [
    {
      "cell_type": "markdown",
      "metadata": {
        "id": "view-in-github",
        "colab_type": "text"
      },
      "source": [
        "<a href=\"https://colab.research.google.com/github/srisri2004/DAUP/blob/main/Week_4_Wed_20_08_docx.ipynb\" target=\"_parent\"><img src=\"https://colab.research.google.com/assets/colab-badge.svg\" alt=\"Open In Colab\"/></a>"
      ]
    },
    {
      "cell_type": "code",
      "execution_count": 6,
      "metadata": {
        "colab": {
          "base_uri": "https://localhost:8080/"
        },
        "id": "Tng1Rc-axIHw",
        "outputId": "7b1b48d4-eb7e-4807-bc06-74071d591aa7"
      },
      "outputs": [
        {
          "output_type": "stream",
          "name": "stdout",
          "text": [
            "Error loading file: [Errno 2] No such file or directory: '/content/daily-minimum-temperatures-in-me.csv'. Please check the file paths.\n"
          ]
        }
      ],
      "source": [
        "import pandas as pd\n",
        "import matplotlib.pyplot as plt\n",
        "import seaborn as sns\n",
        "\n",
        "# Replace these placeholder paths with the actual paths to your datasets.\n",
        "file1 = \"/content/daily-minimum-temperatures-in-me.csv\"  # Replace with the correct path\n",
        "file2 = \"/content/Electric_Production.csv\" # Replace with the correct path\n",
        "file3 = \"/content/monthly-beer-production-in-austr.csv\" # Replace with the correct path\n",
        "file4 = \"/content/sales-of-shampoo-over-a-three-ye.csv\" # Replace with the correct path\n",
        "\n",
        "\n",
        "# Load the datasets, ensuring the date columns are parsed correctly and set as index\n",
        "try:\n",
        "    df1 = pd.read_csv(file1, parse_dates=['Date'], index_col='Date')\n",
        "    df2 = pd.read_csv(file2, parse_dates=['DATE'], index_col='DATE')\n",
        "    df3 = pd.read_csv(file3, parse_dates=['Month'], index_col='Month')\n",
        "\n",
        "    # Custom parsing for the shampoo sales data\n",
        "    def parse_shampoo_date(date_str):\n",
        "        parts = date_str.split('-')\n",
        "        year_cycle = int(parts[0])\n",
        "        month_abbr = parts[1]\n",
        "        year = 2000 + year_cycle - 1 # Assuming the cycle starts from 2001 for year 1\n",
        "        return f'01-{month_abbr}-{year}'\n",
        "\n",
        "    df4 = pd.read_csv(file4)\n",
        "    df4['Month'] = df4['Month'].apply(parse_shampoo_date)\n",
        "    df4['Month'] = pd.to_datetime(df4['Month'], format='%d-%b-%Y')\n",
        "    df4 = df4.set_index('Month')\n",
        "\n",
        "    # Function to plot time series data\n",
        "    def plot_series(df, title, ylabel):\n",
        "        plt.figure(figsize=(12,5))\n",
        "        plt.plot(df.iloc[:, 0], marker='', linewidth=1.5)\n",
        "        plt.title(title, fontsize=14)\n",
        "        plt.xlabel(\"Time\")\n",
        "        plt.ylabel(ylabel)\n",
        "        plt.grid(True)\n",
        "        plt.show()\n",
        "\n",
        "    # Plot the time series for each dataset\n",
        "    plot_series(df1, \"Daily Minimum Temperatures\", \"Temperature (°C)\")\n",
        "    plot_series(df2, \"Electric Production\", \"Production\")\n",
        "    plot_series(df3, \"Monthly Beer Production in Australia\", \"Beer Production\")\n",
        "    plot_series(df4, \"Shampoo Sales Over Three Years\", \"Sales\")\n",
        "\n",
        "    # --- Show basic statistics ---\n",
        "    print(\"Daily Minimum Temperatures:\\n\", df1.describe(), \"\\n\")\n",
        "    print(\"Electric Production:\\n\", df2.describe(), \"\\n\")\n",
        "    print(\"Monthly Beer Production:\\n\", df3.describe(), \"\\n\")\n",
        "    print(\"Shampoo Sales:\\n\", df4.describe(), \"\\n\")\n",
        "\n",
        "except FileNotFoundError as e:\n",
        "    print(f\"Error loading file: {e}. Please check the file paths.\")\n",
        "except Exception as e:\n",
        "    print(f\"An unexpected error occurred: {e}\")"
      ]
    },
    {
      "cell_type": "markdown",
      "metadata": {
        "id": "46d69fba"
      },
      "source": [
        "## Load the Global Motors Inc. Stock Data\n",
        "\n",
        "Now, let's load the stock price data for Global Motors Inc. from the specified Kaggle dataset. Since I cannot directly access Kaggle datasets, I will assume the data is available as a CSV file in the environment. Please make sure the file is accessible."
      ]
    },
    {
      "cell_type": "markdown",
      "metadata": {
        "id": "913963bb"
      },
      "source": [
        "# Task\n",
        "Analyze the stock prices of \"Global Motors Inc.\" over the past year using the dataset from \"https://www.kaggle.com/datasets/shenba/time-series-datasets\". Create a professional visualization of the daily closing stock prices, annotating key events such as the Electric Vehicle Launch (January), Quarterly Earnings Releases (March, June, September, December), Merger Announcement (August), and Global Supply Chain Disruption (October). Customize the plot with a title \"Global Motors Inc. – Stock Price Trend with Key Events (Annual Report)\", clearly labeled axes (Date and Closing Price), and gridlines."
      ]
    },
    {
      "cell_type": "markdown",
      "metadata": {
        "id": "426db9f3"
      },
      "source": [
        "## Load the data\n",
        "\n",
        "### Subtask:\n",
        "Load the stock price data from the specified Kaggle dataset into a pandas DataFrame.\n"
      ]
    },
    {
      "cell_type": "markdown",
      "metadata": {
        "id": "a60d7973"
      },
      "source": [
        "**Reasoning**:\n",
        "The previous attempt failed due to a FileNotFoundError. The instructions mention that the data is from a Kaggle dataset and might need to be downloaded. Since I don't have direct access to Kaggle datasets in this environment and a direct URL is not provided, I will assume the data has been downloaded and is available as a local file named 'global_motors_stock_prices.csv' in the current directory, as suggested in the instructions. I will attempt to load this local file into a pandas DataFrame.\n",
        "\n"
      ]
    },
    {
      "cell_type": "code",
      "metadata": {
        "colab": {
          "base_uri": "https://localhost:8080/"
        },
        "id": "dd24ee52",
        "outputId": "07623396-e361-4334-9e4c-82d7d774be7a"
      },
      "source": [
        "import pandas as pd\n",
        "\n",
        "# Assuming the file 'global_motors_stock_prices.csv' is available locally\n",
        "try:\n",
        "    df_stock = pd.read_csv('global_motors_stock_prices.csv')\n",
        "except FileNotFoundError:\n",
        "    # If the file is not found, provide a clear message indicating the expected file name.\n",
        "    print(\"Error: 'global_motors_stock_prices.csv' not found. Please ensure the dataset is downloaded and placed in the current working directory.\")\n",
        "    df_stock = None # Set df_stock to None to indicate loading failed.\n",
        "\n",
        "if df_stock is not None:\n",
        "    print(\"Stock data loaded successfully. First 5 rows:\")\n",
        "    display(df_stock.head())"
      ],
      "execution_count": 2,
      "outputs": [
        {
          "output_type": "stream",
          "name": "stdout",
          "text": [
            "Error: 'global_motors_stock_prices.csv' not found. Please ensure the dataset is downloaded and placed in the current working directory.\n"
          ]
        }
      ]
    },
    {
      "cell_type": "markdown",
      "metadata": {
        "id": "393222d6"
      },
      "source": [
        "## Load the data retry 1\n",
        "\n",
        "### Subtask:\n",
        "Load the stock price data from the specified Kaggle dataset into a pandas DataFrame._retry_1\n"
      ]
    },
    {
      "cell_type": "markdown",
      "metadata": {
        "id": "18571367"
      },
      "source": [
        "**Reasoning**:\n",
        "Load the stock price data from the assumed path into a pandas DataFrame and display the head.\n",
        "\n"
      ]
    },
    {
      "cell_type": "code",
      "metadata": {
        "colab": {
          "base_uri": "https://localhost:8080/"
        },
        "id": "849c6264",
        "outputId": "163f0354-3e17-4443-bf4d-b5b813cd1f01"
      },
      "source": [
        "import pandas as pd\n",
        "import os\n",
        "\n",
        "file_path = '/data/global_motors_stock_prices.csv'\n",
        "\n",
        "# Check if the file exists before attempting to read\n",
        "if os.path.exists(file_path):\n",
        "    try:\n",
        "        df_stock = pd.read_csv(file_path)\n",
        "        print(\"Stock data loaded successfully. First 5 rows:\")\n",
        "        display(df_stock.head())\n",
        "    except Exception as e:\n",
        "        print(f\"An error occurred while reading the CSV file: {e}\")\n",
        "else:\n",
        "    print(f\"Error: The file '{file_path}' was not found.\")\n",
        "    print(\"Please ensure the dataset is downloaded and placed in the correct directory.\")\n",
        "    df_stock = None # Set df_stock to None to indicate loading failed."
      ],
      "execution_count": 7,
      "outputs": [
        {
          "output_type": "stream",
          "name": "stdout",
          "text": [
            "Error: The file '/data/global_motors_stock_prices.csv' was not found.\n",
            "Please ensure the dataset is downloaded and placed in the correct directory.\n"
          ]
        }
      ]
    },
    {
      "cell_type": "markdown",
      "metadata": {
        "id": "2bc6aa2f"
      },
      "source": [
        "## Load the data retry 2\n",
        "\n",
        "### Subtask:\n",
        "Load the stock price data from the specified Kaggle dataset into a pandas DataFrame._retry_2\n"
      ]
    },
    {
      "cell_type": "markdown",
      "metadata": {
        "id": "9c923ad2"
      },
      "source": [
        "**Reasoning**:\n",
        "Attempt to load the data from the specified path, handling the potential FileNotFoundError.\n",
        "\n"
      ]
    },
    {
      "cell_type": "code",
      "metadata": {
        "colab": {
          "base_uri": "https://localhost:8080/"
        },
        "id": "bfe070ca",
        "outputId": "694e7655-c228-4bb2-f758-0d4e62b15c35"
      },
      "source": [
        "try:\n",
        "    df_stock = pd.read_csv('/C:/Users/srisr/Downloads/archive (6).zip csv')\n",
        "    display(df_stock.head())\n",
        "except FileNotFoundError:\n",
        "    print(\"Error: 'time_series_data.csv' not found at '/data/'. Please ensure the dataset is available at the correct location.\")\n",
        "except Exception as e:\n",
        "    print(f\"An unexpected error occurred: {e}\")"
      ],
      "execution_count": 10,
      "outputs": [
        {
          "output_type": "stream",
          "name": "stdout",
          "text": [
            "Error: 'time_series_data.csv' not found at '/data/'. Please ensure the dataset is available at the correct location.\n"
          ]
        }
      ]
    },
    {
      "cell_type": "markdown",
      "metadata": {
        "id": "e76aea71"
      },
      "source": [
        "## Summary:\n",
        "\n",
        "### Data Analysis Key Findings\n",
        "\n",
        "*   Attempts to load the stock price data from specified file paths (`global_motors_stock_prices.csv`, `/data/global_motors_stock_prices.csv`, and `/data/time_series_data.csv`) were unsuccessful due to `FileNotFoundError` exceptions.\n",
        "*   The necessary data file for \"Global Motors Inc.\" stock prices could not be located in the execution environment.\n",
        "\n",
        "### Insights or Next Steps\n",
        "\n",
        "*   Ensure the correct dataset file is available at the specified path (`/data/time_series_data.csv`).\n",
        "*   Verify the file name and location to successfully load the data and proceed with the analysis.\n"
      ]
    }
  ]
}