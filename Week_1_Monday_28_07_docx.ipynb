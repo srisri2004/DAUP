{
  "nbformat": 4,
  "nbformat_minor": 0,
  "metadata": {
    "colab": {
      "provenance": [],
      "authorship_tag": "ABX9TyNH67V2dhpuXe5JtfJIQGaW"
    },
    "kernelspec": {
      "name": "python3",
      "display_name": "Python 3"
    },
    "language_info": {
      "name": "python"
    }
  },
  "cells": [
    {
      "cell_type": "code",
      "execution_count": 2,
      "metadata": {
        "colab": {
          "base_uri": "https://localhost:8080/",
          "height": 921
        },
        "id": "jHzTq3LkUGnA",
        "outputId": "cb5804b6-165c-4cbc-b150-e50283682105"
      },
      "outputs": [
        {
          "name": "stdout",
          "output_type": "stream",
          "text": [
            "=== Frequency Count ===\n",
            "Category\n",
            "Fail          3\n",
            "Borderline    2\n",
            "Pass          5\n",
            "Name: count, dtype: int64\n",
            "\n",
            "=== Percentage Distribution ===\n",
            "Category\n",
            "Fail          30.0\n",
            "Borderline    20.0\n",
            "Pass          50.0\n",
            "Name: proportion, dtype: float64\n",
            "\n",
            "=== Data Info ===\n",
            "category\n",
            "\n",
            "=== Statistics ===\n",
            "Mean: 54.10\n",
            "Median: 51.50\n",
            "Standard Deviation: 18.43\n",
            "Number of students at risk: 5\n",
            "\n",
            "Enter fail threshold: 30\n",
            "Enter pass threshold: 35\n"
          ]
        },
        {
          "output_type": "display_data",
          "data": {
            "text/plain": [
              "<Figure size 640x480 with 1 Axes>"
            ],
            "image/png": "[encoded data removed]"
          },
          "metadata": {}
        }
      ],
      "source": [
        "import pandas as pd\n",
        "import numpy as np\n",
        "import matplotlib.pyplot as plt\n",
        "\n",
        "# -----------------------------\n",
        "# 1. Data Preparation\n",
        "# -----------------------------\n",
        "# Sample marks for 10 students\n",
        "student_marks = [35, 42, 67, 90, 55, 38, 48, 62, 71, 33]\n",
        "\n",
        "# Default thresholds\n",
        "default_fail_threshold = 40\n",
        "default_pass_threshold = 50\n",
        "\n",
        "# Function to classify marks\n",
        "def classify_score(score, fail=default_fail_threshold, pass_mark=default_pass_threshold):\n",
        "    if score < fail:\n",
        "        return \"Fail\"\n",
        "    elif fail <= score < pass_mark:\n",
        "        return \"Borderline\"\n",
        "    else:\n",
        "        return \"Pass\"\n",
        "\n",
        "# Apply classification\n",
        "categories = [classify_score(mark) for mark in student_marks]\n",
        "\n",
        "# Create pandas DataFrame\n",
        "df = pd.DataFrame({\n",
        "    \"Marks\": student_marks,\n",
        "    \"Category\": pd.Categorical(categories, categories=[\"Fail\", \"Borderline\", \"Pass\"], ordered=True)\n",
        "})\n",
        "\n",
        "# -----------------------------\n",
        "# 2. Data Exploration\n",
        "# -----------------------------\n",
        "print(\"=== Frequency Count ===\")\n",
        "print(df[\"Category\"].value_counts().sort_index())\n",
        "print(\"\\n=== Percentage Distribution ===\")\n",
        "print(df[\"Category\"].value_counts(normalize=True).sort_index() * 100)\n",
        "\n",
        "print(\"\\n=== Data Info ===\")\n",
        "print(df[\"Category\"].dtype)\n",
        "\n",
        "# -----------------------------\n",
        "# 3. Statistical Insight\n",
        "# -----------------------------\n",
        "mean_score = df[\"Marks\"].mean()\n",
        "median_score = df[\"Marks\"].median()\n",
        "std_deviation = df[\"Marks\"].std()\n",
        "at_risk_students = df[df[\"Category\"].isin([\"Fail\", \"Borderline\"])].shape[0]\n",
        "\n",
        "print(\"\\n=== Statistics ===\")\n",
        "print(f\"Mean: {mean_score:.2f}\")\n",
        "print(f\"Median: {median_score:.2f}\")\n",
        "print(f\"Standard Deviation: {std_deviation:.2f}\")\n",
        "print(f\"Number of students at risk: {at_risk_students}\")\n",
        "\n",
        "# -----------------------------\n",
        "# 4. Dynamic Threshold + Visualization\n",
        "# -----------------------------\n",
        "def dynamic_classification(marks, fail_threshold, pass_threshold):\n",
        "    def classify(score):\n",
        "        if score < fail_threshold:\n",
        "            return \"Fail\"\n",
        "        elif fail_threshold <= score < pass_threshold:\n",
        "            return \"Borderline\"\n",
        "        else:\n",
        "            return \"Pass\"\n",
        "\n",
        "    updated_categories = [classify(score) for score in marks]\n",
        "    return pd.Categorical(updated_categories, categories=[\"Fail\", \"Borderline\", \"Pass\"], ordered=True)\n",
        "\n",
        "# Example: user-defined thresholds\n",
        "user_fail = int(float(input(\"\\nEnter fail threshold: \")))         # e.g., 45\n",
        "user_pass = int(float(input(\"Enter pass threshold: \")))           # e.g., 60\n",
        "\n",
        "# Update category with new thresholds\n",
        "df[\"Updated_Category\"] = dynamic_classification(df[\"Marks\"], user_fail, user_pass)\n",
        "\n",
        "# Plotting\n",
        "category_counts = df[\"Updated_Category\"].value_counts().sort_index()\n",
        "category_counts.plot(kind='bar', color=['red', 'orange', 'green'])\n",
        "plt.title(\"Student Distribution by Performance (Dynamic Thresholds)\")\n",
        "plt.xlabel(\"Category\")\n",
        "plt.ylabel(\"Number of Students\")\n",
        "plt.grid(axis='y')\n",
        "plt.tight_layout()\n",
        "plt.show()"
      ]
    },
    {
      "cell_type": "code",
      "source": [],
      "metadata": {
        "id": "k_eLt0VbUZpT"
      },
      "execution_count": null,
      "outputs": []
    }
  ]
}